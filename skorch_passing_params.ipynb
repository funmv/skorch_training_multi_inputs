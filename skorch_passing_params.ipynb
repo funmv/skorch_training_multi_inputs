{
 "cells": [
  {
   "cell_type": "markdown",
   "id": "d4d7dc52-4f52-44dc-940e-6f813c743fed",
   "metadata": {},
   "source": [
    "# Skorch pattern for parameter passing "
   ]
  },
  {
   "cell_type": "code",
   "execution_count": 49,
   "id": "50e0168c-5898-4340-b94d-6fc374e0aeae",
   "metadata": {},
   "outputs": [],
   "source": [
    "from skorch import NeuralNetRegressor\n",
    "from skorch.helper import predefined_split\n",
    "\n",
    "import argparse\n",
    "import math\n",
    "import time\n",
    "import os\n",
    "\n",
    "import torch\n",
    "import torch.nn as nn\n",
    "import torch.nn.functional as F\n",
    "from torch.utils.data import TensorDataset\n",
    "from torch.utils.data import Dataset, DataLoader\n",
    "\n",
    "\n",
    "import numpy as np\n",
    "\n",
    "import pdb"
   ]
  },
  {
   "cell_type": "markdown",
   "id": "9557a644-1497-45ec-bb16-4f9fe816ea67",
   "metadata": {},
   "source": [
    "### (1) train_step()을 오버라이드하는 방법"
   ]
  },
  {
   "cell_type": "code",
   "execution_count": 10,
   "id": "f98b17c8-560c-41c5-88e1-be3d0a41da16",
   "metadata": {},
   "outputs": [],
   "source": [
    "# 간단한 네트워크 정의\n",
    "class SimpleNet(nn.Module):\n",
    "    def __init__(self, num_features):\n",
    "        super().__init__()\n",
    "        self.fc = nn.Linear(num_features, 1)\n",
    "\n",
    "    def forward(self, x):\n",
    "        return self.fc(x)"
   ]
  },
  {
   "cell_type": "code",
   "execution_count": 11,
   "id": "1b8ce3ee-4207-4bbe-9783-5bab222977db",
   "metadata": {},
   "outputs": [],
   "source": [
    "# 사용자 정의 손실 함수 (추가 입력값 활용)\n",
    "def custom_loss(y_pred, y_true, extra_input):\n",
    "    # y_pred=[80, 1], y_true=[80, 1], extra_input=[80]\n",
    "    mse_loss = torch.mean((y_pred - y_true) ** 2)  # 기본 MSE 손실\n",
    "    penalty = torch.mean(extra_input)  # 예: 특정 입력값의 평균을 패널티로 활용\n",
    "    return mse_loss + 0.1 * penalty\n",
    "\n",
    "# skorch `NeuralNetRegressor`를 상속하여 `train_step()`을 오버라이드\n",
    "class CustomNet(NeuralNetRegressor):\n",
    "    def train_step(self, batch, **fit_params):\n",
    "        X, y = batch  # X: 입력 데이터, y: 타겟 값, fit_params={}\n",
    "\n",
    "        # 모델 예측값\n",
    "        y_pred = self.forward(X)\n",
    "\n",
    "        # 추가적인 입력 데이터 활용 가능 (예: X의 첫 번째 feature 사용)\n",
    "        extra_input = X[:, 0]  # 예: 첫 번째 feature 값을 penalty로 활용\n",
    "\n",
    "        # 사용자 정의 손실 함수 적용\n",
    "        loss = custom_loss(y_pred, y, extra_input)\n",
    "\n",
    "        return {\"loss\": loss, \"y_pred\": y_pred}"
   ]
  },
  {
   "cell_type": "code",
   "execution_count": 12,
   "id": "19b6c558-7678-431b-bb71-eeae0d0d041f",
   "metadata": {},
   "outputs": [
    {
     "name": "stdout",
     "output_type": "stream",
     "text": [
      "  epoch    train_loss    valid_loss     dur\n",
      "-------  ------------  ------------  ------\n",
      "      1        \u001b[36m0.4673\u001b[0m        \u001b[32m0.3901\u001b[0m  0.0020\n",
      "      2        0.4673        0.3901  0.0024\n",
      "      3        0.4673        0.3901  0.0025\n",
      "      4        0.4673        0.3901  0.0011\n",
      "      5        0.4673        0.3901  0.0010\n"
     ]
    },
    {
     "data": {
      "text/plain": [
       "<class '__main__.CustomNet'>[initialized](\n",
       "  module_=SimpleNet(\n",
       "    (fc): Linear(in_features=10, out_features=1, bias=True)\n",
       "  ),\n",
       ")"
      ]
     },
     "execution_count": 12,
     "metadata": {},
     "output_type": "execute_result"
    }
   ],
   "source": [
    "# skorch 모델 정의\n",
    "net = CustomNet(\n",
    "    SimpleNet,\n",
    "    module__num_features=10,  # 모델에 전달할 인자\n",
    "    optimizer=torch.optim.Adam,\n",
    "    max_epochs=5\n",
    ")\n",
    "\n",
    "# 데이터 생성\n",
    "X_train = torch.rand(100, 10)  # 입력값 (100개 샘플, 10개 feature)\n",
    "y_train = torch.rand(100, 1)   # 타겟값\n",
    "\n",
    "# 모델 학습\n",
    "net.fit(X_train, y_train)"
   ]
  },
  {
   "cell_type": "markdown",
   "id": "025e938a-8dee-490d-a6bc-971ce6fd2dd6",
   "metadata": {},
   "source": [
    "### (2) fit() 호출 시 추가 데이터 전달 (fit_params 활용)"
   ]
  },
  {
   "cell_type": "code",
   "execution_count": 28,
   "id": "34900d41-eabe-4875-8d20-d9bf3eebdd4b",
   "metadata": {},
   "outputs": [
    {
     "name": "stdout",
     "output_type": "stream",
     "text": [
      "  epoch    train_loss     dur\n",
      "-------  ------------  ------\n",
      "      1        \u001b[36m0.3778\u001b[0m  0.0026\n",
      "      2        0.3778  0.0010\n",
      "      3        0.3778  0.0010\n",
      "      4        0.3778  0.0020\n",
      "      5        0.3778  0.0010\n"
     ]
    },
    {
     "data": {
      "text/plain": [
       "<class '__main__.CustomNet'>[initialized](\n",
       "  module_=SimpleNet(\n",
       "    (fc): Linear(in_features=10, out_features=1, bias=True)\n",
       "  ),\n",
       ")"
      ]
     },
     "execution_count": 28,
     "metadata": {},
     "output_type": "execute_result"
    }
   ],
   "source": [
    "def custom_loss(y_pred, y_true, extra_input):\n",
    "    mse_loss = torch.mean((y_pred - y_true) ** 2)  # 기본 MSE 손실\n",
    "    penalty = torch.mean(extra_input)  # 예: 특정 입력값의 평균을 패널티로 활용\n",
    "    return mse_loss + 0.1 * penalty\n",
    "    \n",
    "class CustomNet(NeuralNetRegressor):\n",
    "    def train_step(self, batch, **fit_params):\n",
    "        X, y = batch\n",
    "        extra_data = fit_params.get(\"extra_data\", torch.zeros_like(y))  # 기본값 설정\n",
    "\n",
    "        # 모델 예측\n",
    "        y_pred = self.forward(X)\n",
    "\n",
    "        # 사용자 정의 손실 함수 적용\n",
    "        loss = custom_loss(y_pred, y, extra_data)\n",
    "\n",
    "        return {\"loss\": loss, \"y_pred\": y_pred}\n",
    "\n",
    "# 모델 정의\n",
    "net = CustomNet(\n",
    "    SimpleNet,\n",
    "    module__num_features=10,\n",
    "    optimizer=torch.optim.Adam,\n",
    "    max_epochs=5,\n",
    "    train_split=predefined_split(None),  # ✅ 검증 데이터 사용 안함\n",
    ")\n",
    "\n",
    "# 데이터 생성\n",
    "X_train = torch.rand(100, 10)  # 입력값 (100개 샘플, 10개 feature)\n",
    "y_train = torch.rand(100, 1)   # 타겟값\n",
    "\n",
    "# 추가 데이터를 생성\n",
    "extra_input_values = torch.rand(len(X_train), 1)  # 예제 데이터 생성\n",
    "\n",
    "# 학습 시 추가 인자 전달\n",
    "net.fit(X_train, y_train, extra_data=extra_input_values)"
   ]
  },
  {
   "cell_type": "markdown",
   "id": "d9d610d8-0fcf-4908-9ae5-ad929d8884d2",
   "metadata": {},
   "source": [
    "### (3) Dataset을 커스터마이즈하여 추가 입력 활용\n",
    "- validation loss까지 계산 🚀"
   ]
  },
  {
   "cell_type": "code",
   "execution_count": 48,
   "id": "5667645e-7c09-4c69-a66a-fb471ac50a6b",
   "metadata": {},
   "outputs": [
    {
     "name": "stdout",
     "output_type": "stream",
     "text": [
      "  epoch    train_loss    valid_loss     dur\n",
      "-------  ------------  ------------  ------\n",
      "      1        \u001b[36m0.4673\u001b[0m        \u001b[32m0.4673\u001b[0m  0.0040\n",
      "      2        0.4673        0.4673  0.0027\n",
      "      3        0.4673        0.4673  0.0020\n",
      "      4        0.4673        0.4673  0.0030\n",
      "      5        0.4673        0.4673  0.0000\n"
     ]
    },
    {
     "data": {
      "text/plain": [
       "<class '__main__.CustomNet'>[initialized](\n",
       "  module_=SimpleNet(\n",
       "    (fc): Linear(in_features=10, out_features=1, bias=True)\n",
       "  ),\n",
       ")"
      ]
     },
     "execution_count": 48,
     "metadata": {},
     "output_type": "execute_result"
    }
   ],
   "source": [
    "# 다중 입력을 포함하는 Dataset 정의\n",
    "class CustomDataset(Dataset):\n",
    "    def __init__(self, X, y, extra_input):\n",
    "        self.X = X\n",
    "        self.y = y\n",
    "        self.extra_input = extra_input\n",
    "\n",
    "    def __len__(self):\n",
    "        return len(self.X)\n",
    "\n",
    "    def __getitem__(self, idx):\n",
    "        return self.X[idx], self.y[idx], self.extra_input[idx]  # 추가 입력 반환\n",
    "\n",
    "\n",
    "# 사용자 정의 손실 함수 (추가 입력값 활용)\n",
    "def custom_loss(y_pred, y_true, extra_input):\n",
    "    mse_loss = torch.mean((y_pred - y_true) ** 2)  # 기본 MSE 손실\n",
    "    penalty = torch.mean(extra_input)  # 예: 특정 입력값의 평균을 패널티로 활용\n",
    "    return mse_loss + 0.1 * penalty\n",
    "\n",
    "    \n",
    "class CustomNet(NeuralNetRegressor):\n",
    "    def valid_loss(self, X, y, extra_input):\n",
    "        with torch.no_grad():\n",
    "            y_pred = self.forward(X)\n",
    "        # 사용자 정의 손실 함수 적용\n",
    "        loss = custom_loss(y_pred, y, extra_input)\n",
    "        return {\"loss\": loss, \"y_pred\": y_pred}\n",
    "        \n",
    "    def train_step(self, batch, **fit_params):\n",
    "        X, y, extra_input = batch  # 추가 입력 포함\n",
    "\n",
    "        # 모델 예측\n",
    "        y_pred = self.forward(X)\n",
    "\n",
    "        # 사용자 정의 손실 함수 적용\n",
    "        loss = custom_loss(y_pred, y, extra_input)\n",
    "\n",
    "        return {\"loss\": loss, \"y_pred\": y_pred}\n",
    "\n",
    "    def validation_step(self, batch, **fit_params):  # 📌원래는 X, y만 넘어옴 \n",
    "        X, y, extra_input = batch  # 추가 입력 포함\n",
    "        return self.valid_loss(X, y, extra_input)\n",
    "\n",
    "\n",
    "# 데이터 생성\n",
    "X_train = torch.rand(100, 10)  # 입력값 (100개 샘플, 10개 feature)\n",
    "y_train = torch.rand(100, 1)   # 타겟값\n",
    "\n",
    "# 데이터셋 생성\n",
    "extra_input_values = torch.rand(len(X_train), 1)\n",
    "train_dataset = CustomDataset(X_train, y_train, extra_input_values)\n",
    "valid_dataset = CustomDataset(X_train, y_train, extra_input_values)\n",
    "\n",
    "\n",
    "net = CustomNet(\n",
    "    SimpleNet,\n",
    "    module__num_features=10,  # 모델에 전달할 인자\n",
    "    optimizer=torch.optim.Adam,\n",
    "    max_epochs=5,\n",
    "    train_split=predefined_split(valid_dataset),  # ✅ 검증 데이터 사용 \n",
    ")\n",
    "\n",
    "# 모델 학습\n",
    "net.fit(train_dataset, y=None)"
   ]
  },
  {
   "cell_type": "code",
   "execution_count": null,
   "id": "0cc9ae6c-b7cf-4959-be5d-656327ade91e",
   "metadata": {},
   "outputs": [],
   "source": []
  }
 ],
 "metadata": {
  "kernelspec": {
   "display_name": "Python 3 (ipykernel)",
   "language": "python",
   "name": "python3"
  },
  "language_info": {
   "codemirror_mode": {
    "name": "ipython",
    "version": 3
   },
   "file_extension": ".py",
   "mimetype": "text/x-python",
   "name": "python",
   "nbconvert_exporter": "python",
   "pygments_lexer": "ipython3",
   "version": "3.10.16"
  }
 },
 "nbformat": 4,
 "nbformat_minor": 5
}
