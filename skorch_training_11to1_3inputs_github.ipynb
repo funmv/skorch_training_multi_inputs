{
 "cells": [
  {
   "cell_type": "markdown",
   "id": "d481addf",
   "metadata": {},
   "source": [
    "# Skorch setting for 11 inputs and 5 outputs \n",
    "- 11개 inputs: 과거 32tic 데이터를 이용\n",
    "- [경로] G:\\nox\\2024\\nox_05sec"
   ]
  },
  {
   "cell_type": "code",
   "execution_count": 1,
   "id": "5fcd1c8d",
   "metadata": {},
   "outputs": [],
   "source": [
    "import argparse\n",
    "import math\n",
    "import time\n",
    "import os\n",
    "\n",
    "import torch\n",
    "import torch.nn as nn\n",
    "import torch.nn.functional as F\n",
    "from torch.utils.data import TensorDataset, Dataset\n",
    "\n",
    "import numpy as np;\n",
    "\n",
    "import pdb\n",
    "import matplotlib.pyplot as plt\n",
    "import matplotlib\n",
    "from IPython.display import Image"
   ]
  },
  {
   "cell_type": "code",
   "execution_count": 2,
   "id": "738f359c",
   "metadata": {},
   "outputs": [],
   "source": [
    "import pickle\n",
    "from skorch import NeuralNetRegressor\n",
    "from skorch.callbacks import Checkpoint, Callback\n",
    "from skorch.helper import predefined_split"
   ]
  },
  {
   "cell_type": "code",
   "execution_count": 3,
   "id": "ef188c36",
   "metadata": {},
   "outputs": [],
   "source": [
    "os.environ['CUDA_LAUNCH_BLOCKING'] = \"1\"  # CUDA연산을 동기화모드로 전환\n",
    "os.environ[\"CUDA_VISIBLE_DEVICES\"] = \"0\"\n",
    "\n",
    "torch.cuda.set_device(0)  # 0번 GPU\n",
    "torch.manual_seed(20201130)  # torch연산의 재현성 보장\n",
    "torch.cuda.manual_seed(20201130)  # CUDA연산의 재현성 보장"
   ]
  },
  {
   "cell_type": "code",
   "execution_count": 4,
   "id": "2f0e0f65",
   "metadata": {},
   "outputs": [],
   "source": [
    "data_files = ['train_data/busan_5gt_nox6.npy']"
   ]
  },
  {
   "cell_type": "code",
   "execution_count": 6,
   "id": "2d94b27b",
   "metadata": {},
   "outputs": [
    {
     "name": "stdout",
     "output_type": "stream",
     "text": [
      "Max value of features = [10, 40, 12, 10, 100, 500, 1100, 200, 25, 120, 10, 23, 350, 200, 7000, 700, 350, 200, 120000, 100, 100, 100, 10]\n",
      "Min value of features = [0, -10, 0, 0, 0, 0, 0, 0, 0, 0, 0, 0, 100, 0, 2000, 0, 100, 0, 0, 0, 0, 0, 0]\n",
      "(380000, 32, 23) (380000, 16, 23)\n",
      "(131100, 32, 23) (131100, 16, 23)\n",
      "------------------------------\n",
      "Max value of features = [10, 40, 12, 10, 100, 500, 1100, 200, 25, 120, 10, 23, 350, 200, 7000, 700, 350, 200, 120000, 100, 100, 100, 10]\n",
      "Min value of features = [0, -10, 0, 0, 0, 0, 0, 0, 0, 0, 0, 0, 100, 0, 2000, 0, 100, 0, 0, 0, 0, 0, 0]\n",
      "(380000, 32, 23) (380000, 16, 23)\n",
      "(131100, 32, 23) (131100, 16, 23)\n",
      "------------------------------\n",
      "dict_keys(['train_x', 'train_y', 'valid_x', 'valid_y', 'File', 'Date', 'tic', 'ID', 'loc', 'Data_date', 'cut_len', 'features'])\n"
     ]
    },
    {
     "data": {
      "text/plain": [
       "('5sec', '241202+250113')"
      ]
     },
     "execution_count": 6,
     "metadata": {},
     "output_type": "execute_result"
    }
   ],
   "source": [
    "class NOxDataBase(Dataset):\n",
    "    #\n",
    "    # 입력 샘플이 바뀔때마다 특징의 max, min값이 바뀌는 것을 방지하기 위해, 미리 설정:\n",
    "    #\n",
    "    user_maximum = [10, 40, 12, 10, 100, 500, 1100, 200, 25, 120, 10, 23, 350, 200, 7000, 700, 350, 200, 120000, 100, 100, 100, 10]\n",
    "    user_minimum = [ 0,-10,  0,  0,   0,   0,    0,   0,  0,   0,  0,  0, 100,   0, 2000,   0, 100,   0,      0,   0,   0,   0,  0]\n",
    "    \n",
    "    def __init__(self, data_name=data_files):\n",
    "        self._load_data(data_name)\n",
    "        self._normalize()\n",
    "        print(self.train_x.shape, self.train_y.shape)\n",
    "        print(self.valid_x.shape, self.valid_y.shape)\n",
    "        \n",
    "    def _load_data(self, data_name):\n",
    "        self.data_dict = [np.load(in_data, allow_pickle='TRUE').item() for in_data in data_name]\n",
    "        self.train_x = np.concatenate(tuple([a1['train_x'] for a1 in self.data_dict]),axis=0)\n",
    "        self.train_y = np.concatenate(tuple([a1['train_y'] for a1 in self.data_dict]),axis=0)\n",
    "        self.valid_x = np.concatenate(tuple([a1['valid_x'] for a1 in self.data_dict]),axis=0)\n",
    "        self.valid_y = np.concatenate(tuple([a1['valid_y'] for a1 in self.data_dict]),axis=0)       \n",
    "        self.maximum = np.ones(self.train_x.shape[2])\n",
    "        self.minimum = np.ones(self.train_x.shape[2])\n",
    "\n",
    "    def _normalize(self):\n",
    "        self.maximum = self.user_maximum\n",
    "        self.minimum = self.user_minimum\n",
    "        for v in range(self.train_x.shape[2]):\n",
    "            #self.maximum[v] = np.max(self.train_x[:,:,v])\n",
    "            #self.minimum[v] = np.min(self.train_x[:,:,v])            \n",
    "            \n",
    "            denom = self.maximum[v]-self.minimum[v]\n",
    "            self.train_x[:,:,v] = np.clip((self.train_x[:,:,v]-self.minimum[v]) / denom, 0.0, 1.0)\n",
    "            self.train_y[:,:,v] = np.clip((self.train_y[:,:,v]-self.minimum[v]) / denom, 0.0, 1.0)\n",
    "            self.valid_x[:,:,v] = np.clip((self.valid_x[:,:,v]-self.minimum[v]) / denom, 0.0, 1.0)\n",
    "            self.valid_y[:,:,v] = np.clip((self.valid_y[:,:,v]-self.minimum[v]) / denom, 0.0, 1.0)\n",
    "            \n",
    "        print('Max value of features = {}'.format(self.maximum))\n",
    "        print('Min value of features = {}'.format(self.minimum))       \n",
    "        \n",
    "        \n",
    "class NOxTrain(NOxDataBase):\n",
    "    def __len__(self):\n",
    "        return len(self.train_x)\n",
    "    \n",
    "    def __getitem__(self, idx):\n",
    "        return self.train_x[idx], self.train_y[idx,0:5,:]\n",
    "    \n",
    "class NOxValid(NOxDataBase):\n",
    "    def __len__(self):\n",
    "        return len(self.valid_x)\n",
    "    \n",
    "    def __getitem__(self, idx):\n",
    "        return self.valid_x[idx], self.valid_y[idx,0:5,:]\n",
    "    \n",
    "    \n",
    "train_data = NOxTrain(data_files)\n",
    "print('------------------------------')\n",
    "valid_data = NOxValid(data_files)\n",
    "print('------------------------------')\n",
    "print(valid_data.data_dict[0].keys())\n",
    "#print(valid_data.data_dict[0]['features'])\n",
    "valid_data.data_dict[0]['tic'], valid_data.data_dict[0]['Data_date']"
   ]
  },
  {
   "cell_type": "code",
   "execution_count": 7,
   "id": "a711333f",
   "metadata": {},
   "outputs": [
    {
     "name": "stdout",
     "output_type": "stream",
     "text": [
      "380000 131100\n",
      "(32, 23)\n",
      "(5, 23)\n"
     ]
    },
    {
     "data": {
      "text/plain": [
       "(torch.Size([2048, 32, 23]), torch.Size([2048, 5, 23]))"
      ]
     },
     "execution_count": 7,
     "metadata": {},
     "output_type": "execute_result"
    }
   ],
   "source": [
    "print(len(train_data), len(valid_data))\n",
    "print(train_data[0][0].shape)  \n",
    "print(train_data[0][1].shape)  \n",
    "\n",
    "# Test를 위해 필요함\n",
    "train_dataloader = torch.utils.data.DataLoader(train_data, shuffle=True, batch_size=2048, pin_memory=True)\n",
    "valid_dataloader = torch.utils.data.DataLoader(valid_data, shuffle=False, batch_size=2048, pin_memory=True)\n",
    "inp = next(iter(train_dataloader))\n",
    "inp[0].shape, inp[1].shape"
   ]
  },
  {
   "cell_type": "markdown",
   "id": "a87d2a24",
   "metadata": {},
   "source": [
    "### Model"
   ]
  },
  {
   "cell_type": "code",
   "execution_count": 8,
   "id": "38302454-ee36-4fcf-a78c-ac869d66e073",
   "metadata": {},
   "outputs": [],
   "source": [
    "class Attention(nn.Module):\n",
    "    def __init__(self, hidden_size):\n",
    "        super(Attention, self).__init__()\n",
    "        self.attention = nn.Linear(hidden_size, 1, bias=False)\n",
    "    \n",
    "    def forward(self, hidden_states):\n",
    "        # hidden_states: [batch_size, seq_len, hidden_size]\n",
    "        attention_scores = self.attention(hidden_states)  # [batch_size, seq_len, 1]\n",
    "        attention_weights = torch.softmax(attention_scores, dim=1)  # [batch_size, seq_len, 1]\n",
    "        context_vector = torch.sum(hidden_states * attention_weights, dim=1)  # [batch_size, hidden_size]\n",
    "        return context_vector, attention_weights"
   ]
  },
  {
   "cell_type": "code",
   "execution_count": 10,
   "id": "c9b9a1ba-46de-46ea-a5ba-a437c2f1b73a",
   "metadata": {},
   "outputs": [],
   "source": [
    "class LSTMWithAttention(nn.Module):\n",
    "    def __init__(self, input_size, hidden_size, output_size, num_layers=1, dropout=0.5):\n",
    "        super(LSTMWithAttention, self).__init__()\n",
    "        self.hidden_size = hidden_size\n",
    "        self.lstm = nn.LSTM(input_size, hidden_size, num_layers, batch_first=True, dropout=dropout)\n",
    "        self.attention = Attention(hidden_size)\n",
    "        self.input_projection = nn.Linear(input_size, hidden_size, bias=False) if input_size != hidden_size else None\n",
    "        self.dropout_lstm = nn.Dropout(0.3)\n",
    "        self.dropout_attention = nn.Dropout(0.5)\n",
    "        self.fc = nn.Linear(3*hidden_size, output_size)\n",
    "        self.embedding_x2 = nn.Linear(1, hidden_size)\n",
    "        self.embedding_x3 = nn.Linear(5, hidden_size)\n",
    "    \n",
    "    def forward(self, x1, x2, x3):\n",
    "        lstm_output, _ = self.lstm(x1)  # [batch_size, seq_len, hidden_size]\n",
    "        lstm_output = self.dropout_lstm(lstm_output)\n",
    "        context_vector, attention_weights = self.attention(lstm_output)  # [batch_size, hidden_size]\n",
    "        \n",
    "        # Residual connection: Project input mean if input_size != hidden_size\n",
    "        input_mean = torch.mean(x1, dim=1)  # [batch_size, input_size]\n",
    "        if self.input_projection is not None:\n",
    "            input_mean = self.input_projection(input_mean)  # Match dimensions: [batch_size, hidden_size]\n",
    "        context_vector = context_vector + input_mean  # Residual connection\n",
    "\n",
    "        #pdb.set_trace()\n",
    "        embedded_x2 = self.embedding_x2(x2)\n",
    "        embedded_x3 = self.embedding_x3(x3)\n",
    "        combined_vector = torch.cat((context_vector, embedded_x2, embedded_x3), dim=1)\n",
    "        combined_vector = self.dropout_attention(combined_vector)\n",
    "        \n",
    "        # Fully connected layer\n",
    "        output = self.fc(combined_vector)  # [batch_size, output_size]\n",
    "        \n",
    "        return output   \n",
    "\n",
    "\n",
    "model = LSTMWithAttention(11, 64, 1, num_layers=1, dropout=0.0)"
   ]
  },
  {
   "cell_type": "code",
   "execution_count": 11,
   "id": "a488df82",
   "metadata": {},
   "outputs": [
    {
     "data": {
      "text/plain": [
       "((380000, 32, 11),\n",
       " (380000, 1),\n",
       " (380000, 5),\n",
       " (380000, 5),\n",
       " (131100, 32, 11),\n",
       " (131100, 1),\n",
       " (131100, 5),\n",
       " (131100, 5))"
      ]
     },
     "execution_count": 11,
     "metadata": {},
     "output_type": "execute_result"
    }
   ],
   "source": [
    "def model_data(inputs):\n",
    "    x1 = []\n",
    "    x2 = []\n",
    "    x3 = []\n",
    "    y1 = []\n",
    "    \n",
    "    indx = [0,1,5,6,8,11,12,13,15,16,18]\n",
    "    for aa in inputs:  # aa[0]=(32, 21), aa[1]=(21,)\n",
    "        x1.append(aa[0][:,indx])  \n",
    "        x2.append(aa[0][0,21:22])\n",
    "        x3.append(aa[1][:5,6])\n",
    "        y1.append(aa[1][:5,21])\n",
    "\n",
    "    x1 = np.array(x1, dtype=np.float32)\n",
    "    x2 = np.array(x2, dtype=np.float32)\n",
    "    x3 = np.array(x3, dtype=np.float32)\n",
    "    y1 = np.array(y1, dtype=np.float32)\n",
    "    return x1, x2, x3, y1\n",
    "\n",
    "\n",
    "train_x1, train_x2, train_x3, train_y1 = model_data(train_data)\n",
    "valid_x1, valid_x2, valid_x3, valid_y1 = model_data(valid_data)\n",
    "train_x1.shape, train_x2.shape, train_x3.shape, train_y1.shape, valid_x1.shape, valid_x2.shape, valid_x3.shape, valid_y1.shape, "
   ]
  },
  {
   "cell_type": "code",
   "execution_count": 12,
   "id": "d92e5b2a-1bf5-4af0-af85-76286bc8196c",
   "metadata": {},
   "outputs": [],
   "source": [
    "class CustomDataset(torch.utils.data.Dataset):\n",
    "    def __init__(self, x1, x2, x3, y):\n",
    "        self.x1 = x1\n",
    "        self.x2 = x2\n",
    "        self.x3 = x3\n",
    "        self.y = y\n",
    "\n",
    "    def __len__(self):\n",
    "        return len(self.y)\n",
    "\n",
    "    def __getitem__(self, idx):\n",
    "        return {'x1': self.x1[idx], 'x2': self.x2[idx], 'x3':self.x3[idx]}, self.y[idx]\n",
    "\n",
    "    \n",
    "valid_dataset = CustomDataset(valid_x1, valid_x2, valid_x3, valid_y1)\n",
    "train_dict = {'x1': train_x1, 'x2': train_x2, 'x3': train_x3}"
   ]
  },
  {
   "cell_type": "code",
   "execution_count": 12,
   "id": "5adf3b0f",
   "metadata": {},
   "outputs": [],
   "source": [
    "# PyTorch TensorDataset으로 변환\n",
    "# train_dataset = TensorDataset(torch.tensor(train_x0), torch.tensor(train_y0))\n",
    "# valid_dataset = TensorDataset(torch.tensor(valid_x0), torch.tensor(valid_y0))\n",
    "# train_dataset[0][0].shape, train_dataset[0][1].shape"
   ]
  },
  {
   "cell_type": "code",
   "execution_count": 13,
   "id": "6a20e91c-21b5-420a-8743-04dbda7a930b",
   "metadata": {},
   "outputs": [],
   "source": [
    "class TimeCallback(Callback):\n",
    "    def on_epoch_end(self, net, dataset_train=None, dataset_valid=None, **kwargs):\n",
    "        current_time = time.strftime('%m-%d %H:%M:%S')\n",
    "        if 'epoch_time' not in net.history[-1]:\n",
    "            net.history[-1]['epoch_time'] = current_time\n",
    "\n",
    "        train_loss = net.history[-1]['train_loss']\n",
    "        # L2 패널티 계산\n",
    "        l2_loss = sum(param.pow(2).sum() for param in net.module_.parameters())\n",
    "        net.history[-1]['W Sum'] = l2_loss.item()        \n",
    "        weight_decay = net.optimizer_.param_groups[0].get('weight_decay', 0)\n",
    "        l2_loss *= weight_decay\n",
    "        net.history[-1]['W_decay'] = weight_decay\n",
    "        net.history[-1]['L2 Loss'] = l2_loss.item()\n",
    "        total_loss = train_loss + l2_loss.item()   "
   ]
  },
  {
   "cell_type": "code",
   "execution_count": 14,
   "id": "06755af1-bf79-4ad2-af92-cb02d5fc749b",
   "metadata": {},
   "outputs": [],
   "source": [
    "class DynamicWeightDecay(Callback):\n",
    "    def __init__(self, initial_decay=0.000001, decay_factor=0.99):\n",
    "        self.initial_decay = initial_decay\n",
    "        self.decay_factor = decay_factor\n",
    "\n",
    "    def on_epoch_begin(self, net, **kwargs):\n",
    "        current_epoch = len(net.history)\n",
    "        new_weight_decay = self.initial_decay * (self.decay_factor ** current_epoch)\n",
    "        for param_group in net.optimizer_.param_groups:\n",
    "            param_group['weight_decay'] = new_weight_decay"
   ]
  },
  {
   "cell_type": "code",
   "execution_count": 15,
   "id": "51fd6693-7b72-4591-862b-d9e83f718ec6",
   "metadata": {},
   "outputs": [
    {
     "name": "stdout",
     "output_type": "stream",
     "text": [
      "Iter:15, weight_decay:0.00000310, pts: pts/best_params_nox_alone_att_res_mse15.pt\n",
      "  epoch    L2 Loss     W Sum    W_decay      epoch_time    train_loss    valid_loss    cp     dur\n",
      "-------  ---------  --------  ---------  --------------  ------------  ------------  ----  ------\n",
      "      1     0.0006  192.2798     0.0000  01-23 16:30:19        \u001b[94m0.0895\u001b[0m        \u001b[36m0.0056\u001b[0m     +  7.9068\n"
     ]
    }
   ],
   "source": [
    "for ii in range(15,16):\n",
    "    weight_decay = 0.0000001 + 2*ii*0.0000001\n",
    "    out_pts = f\"pts/best_params_nox_alone_att_res_mse{ii}.pt\"\n",
    "    print(f\"Iter:{ii}, weight_decay:{weight_decay:.8f}, pts: {out_pts}\")\n",
    "    \n",
    "    model = LSTMWithAttention(11, 64, 5, num_layers=1, dropout=0.0)\n",
    "\n",
    "    regressor = NeuralNetRegressor(\n",
    "        model,\n",
    "        max_epochs=1,  # 50\n",
    "        #lr=0.0001,\n",
    "        #criterion=nn.SmoothL1Loss, # or MSE \n",
    "        optimizer=torch.optim.AdamW,  # or AdamW\n",
    "        optimizer__lr=0.0001,  \n",
    "        optimizer__weight_decay=weight_decay,  # L2 regularization    \n",
    "        # optimizer__weight_decay=0.000005,  # L2 regularization    \n",
    "        iterator_train__shuffle=True,\n",
    "        batch_size=2048,\n",
    "        train_split=predefined_split(valid_dataset),\n",
    "        callbacks=[Checkpoint(f_params=out_pts),\n",
    "                   TimeCallback(),\n",
    "                   DynamicWeightDecay(initial_decay=weight_decay, decay_factor=0.99)\n",
    "                  ],\n",
    "        device = 'cuda' if torch.cuda.is_available() else 'cpu'\n",
    "    ) \n",
    "\n",
    "    # regressor.fit(train_dataset, y=None)  \n",
    "    regressor.fit(train_dict, train_y1) "
   ]
  },
  {
   "cell_type": "code",
   "execution_count": 17,
   "id": "768a0c01",
   "metadata": {},
   "outputs": [
    {
     "data": {
      "text/plain": [
       "<All keys matched successfully>"
      ]
     },
     "execution_count": 17,
     "metadata": {},
     "output_type": "execute_result"
    }
   ],
   "source": [
    "#model.load_state_dict(torch.load('pts/best_params_11f_NOX_0002.pt', weights_only=True))\n",
    "regressor.module_.load_state_dict(torch.load('pts/best_params_nox_alone_att_res_mse15_3inputs_0003.pt', weights_only=True))"
   ]
  },
  {
   "cell_type": "code",
   "execution_count": 18,
   "id": "2dd292e9-d942-41e0-89ef-9a5ecd27f4d0",
   "metadata": {},
   "outputs": [
    {
     "data": {
      "text/plain": [
       "8"
      ]
     },
     "execution_count": 18,
     "metadata": {},
     "output_type": "execute_result"
    }
   ],
   "source": [
    "import gc\n",
    "\n",
    "torch.cuda.empty_cache()  # 캐시된 메모리 해제, 사용되지 않는 GPU메모리 해제\n",
    "gc.collect()  # Python garbage collection (선택적)"
   ]
  },
  {
   "cell_type": "code",
   "execution_count": 19,
   "id": "995eb48d",
   "metadata": {},
   "outputs": [
    {
     "data": {
      "image/png": "[encoded data removed]",
      "text/plain": [
       "<Figure size 1000x400 with 1 Axes>"
      ]
     },
     "metadata": {},
     "output_type": "display_data"
    }
   ],
   "source": [
    "def plot_valid(crop_num):\n",
    "    crop_len = 1900\n",
    "    \n",
    "    st, et = crop_num*crop_len, (crop_num+1)*crop_len\n",
    "    valid_dict = {'x1': valid_x1[st:et], 'x2': valid_x2[st:et], 'x3': valid_x3[st:et]}\n",
    "    res = regressor.predict(valid_dict)  \n",
    "    #pdb.set_trace()\n",
    "\n",
    "    plt.figure(figsize=(10,4))\n",
    "    plt.title(f\"{crop_num}\")\n",
    "    #plt.xlim(500,1000)\n",
    "    plt.ylim(0,1)\n",
    "    plt.grid()\n",
    "    plt.plot(valid_y1[st:et,4], label='NOx(Ground)')  \n",
    "    plt.plot(res[:,4],'--', label='NOx(predict)')    \n",
    "    plt.show()\n",
    "\n",
    "\n",
    "for ii in range(1):\n",
    "    plot_valid(ii)"
   ]
  },
  {
   "cell_type": "code",
   "execution_count": 20,
   "id": "41487291-bcad-4dea-a7ae-14ebd471e05d",
   "metadata": {},
   "outputs": [
    {
     "data": {
      "image/png": "[encoded data removed]",
      "text/plain": [
       "<Figure size 1000x400 with 1 Axes>"
      ]
     },
     "metadata": {},
     "output_type": "display_data"
    }
   ],
   "source": [
    "def plot_valid(crop_num):\n",
    "    crop_len = 1900\n",
    "    \n",
    "    st, et = crop_num*crop_len, (crop_num+1)*crop_len\n",
    "    train_dict = {'x1': train_x1[st:et], 'x2': train_x2[st:et], 'x3': train_x3[st:et]}\n",
    "    res = regressor.predict(train_dict)  \n",
    "\n",
    "    plt.figure(figsize=(10,4))\n",
    "    plt.title(f\"{crop_num}\")\n",
    "    plt.ylim(0,1)\n",
    "    plt.grid()\n",
    "    plt.plot(train_y1[st:et,0], label='NOx(Ground)')  \n",
    "    plt.plot(res[:,0],'--', label='NOx(predict)')    \n",
    "    plt.show()\n",
    "\n",
    "\n",
    "for ii in range(1):\n",
    "    plot_valid(ii)"
   ]
  },
  {
   "cell_type": "code",
   "execution_count": null,
   "id": "6748c0f6-89e1-49bb-ae3c-8b9178ebdc3e",
   "metadata": {},
   "outputs": [],
   "source": []
  },
  {
   "cell_type": "code",
   "execution_count": null,
   "id": "b7cce51b-485c-4406-b826-1b1f82f83033",
   "metadata": {},
   "outputs": [],
   "source": []
  },
  {
   "cell_type": "code",
   "execution_count": null,
   "id": "838c398e-0a11-47d2-8333-4d813db5944e",
   "metadata": {},
   "outputs": [],
   "source": []
  },
  {
   "cell_type": "code",
   "execution_count": 22,
   "id": "cc5a07e6-8f41-4946-9cbd-f27ebf1159c1",
   "metadata": {
    "scrolled": true
   },
   "outputs": [],
   "source": [
    "models = [LSTMWithAttention(11, 64, 5, num_layers=1, dropout=0.0) for _ in range(5)]\n",
    "# for model,ii in zip(models, [15,16,18,22,23]):\n",
    "#     model.load_state_dict(torch.load(f'pts/best_params_nox_alone{ii}.pt', weights_only=True))\n",
    "#     model.eval()\n",
    "\n",
    "# X_tensor = torch.from_numpy(valid_x0).cuda()\n",
    "# ensemble_preds = []\n",
    "# for model in models:\n",
    "#     model.cuda()\n",
    "#     with torch.no_grad():\n",
    "#         preds = model(X_tensor) \n",
    "#         ensemble_preds.append(preds)\n",
    "\n",
    "# ensemble_output = torch.mean(torch.stack(ensemble_preds), dim=0)\n",
    "# print(ensemble_output.shape)\n",
    "\n",
    "# for crop_num in range(12):\n",
    "#     crop_len = 1900\n",
    "#     st, et = crop_num*crop_len, (crop_num+1)*crop_len\n",
    "#     res = ensemble_output[st:et,0].cpu().numpy()  \n",
    "\n",
    "#     plt.figure(figsize=(10,4))\n",
    "#     plt.ylim(0,1)\n",
    "#     plt.grid()\n",
    "#     plt.plot(valid_y0[st:et,0], label='NOx(Ground)')  \n",
    "#     plt.plot(res,'--', label='NOx(predict)')    \n",
    "#     plt.show()\n",
    "\n",
    "def plot_valid(crop_num):\n",
    "    crop_len = 1900\n",
    "    \n",
    "    st, et = crop_num*crop_len, (crop_num+1)*crop_len\n",
    "    res = regressor.predict(train_x0[st:et])  \n",
    "\n",
    "    plt.figure(figsize=(10,4))\n",
    "    plt.title(f\"{crop_num}\")\n",
    "    plt.ylim(0,1)\n",
    "    plt.grid()\n",
    "    plt.plot(train_y1[st:et,0], label='NOx(Ground)')  \n",
    "    plt.plot(res,'--', label='NOx(predict)')    \n",
    "    plt.show()\n",
    "\n",
    "\n",
    "# for ii in range(195):\n",
    "#     plot_valid(ii)"
   ]
  },
  {
   "cell_type": "code",
   "execution_count": 23,
   "id": "389309db-6b15-4e95-8e98-deb4b278c144",
   "metadata": {
    "scrolled": true
   },
   "outputs": [],
   "source": [
    "models = [LSTMWithAttention(11, 64, 5, num_layers=1, dropout=0.0) for _ in range(5)]\n",
    "# for model,ii in zip(models, [15,16,18,22,23]):\n",
    "#     model.load_state_dict(torch.load(f'pts/best_params_nox_alone{ii}.pt', weights_only=True))\n",
    "#     model.eval()\n",
    "\n",
    "# X_tensor = torch.from_numpy(train_x0).cuda()\n",
    "# ensemble_preds = []\n",
    "# for model in models:\n",
    "#     model.cuda()\n",
    "#     with torch.no_grad():\n",
    "#         preds = model(X_tensor) \n",
    "#         ensemble_preds.append(preds)\n",
    "\n",
    "# ensemble_output = torch.mean(torch.stack(ensemble_preds), dim=0)\n",
    "# print(ensemble_output.shape)\n",
    "\n",
    "# for crop_num in range(90):\n",
    "#     crop_len = 1900\n",
    "#     st, et = crop_num*crop_len, (crop_num+1)*crop_len\n",
    "#     res = ensemble_output[st:et,0].cpu().numpy()  \n",
    "\n",
    "#     plt.figure(figsize=(10,4))\n",
    "#     plt.title(f\"{crop_num}\")\n",
    "#     plt.ylim(0,1)\n",
    "#     plt.grid()\n",
    "#     plt.plot(train_y0[st:et,0], label='NOx(Ground)')  \n",
    "#     plt.plot(res,'--', label='NOx(predict)')    \n",
    "#     plt.show()"
   ]
  },
  {
   "cell_type": "code",
   "execution_count": null,
   "id": "f6e6eca9-52ed-4b71-bd74-5fa5a615ebc0",
   "metadata": {},
   "outputs": [],
   "source": []
  }
 ],
 "metadata": {
  "kernelspec": {
   "display_name": "Python 3 (ipykernel)",
   "language": "python",
   "name": "python3"
  },
  "language_info": {
   "codemirror_mode": {
    "name": "ipython",
    "version": 3
   },
   "file_extension": ".py",
   "mimetype": "text/x-python",
   "name": "python",
   "nbconvert_exporter": "python",
   "pygments_lexer": "ipython3",
   "version": "3.10.16"
  },
  "varInspector": {
   "cols": {
    "lenName": 16,
    "lenType": 16,
    "lenVar": 40
   },
   "kernels_config": {
    "python": {
     "delete_cmd_postfix": "",
     "delete_cmd_prefix": "del ",
     "library": "var_list.py",
     "varRefreshCmd": "print(var_dic_list())"
    },
    "r": {
     "delete_cmd_postfix": ") ",
     "delete_cmd_prefix": "rm(",
     "library": "var_list.r",
     "varRefreshCmd": "cat(var_dic_list()) "
    }
   },
   "types_to_exclude": [
    "module",
    "function",
    "builtin_function_or_method",
    "instance",
    "_Feature"
   ],
   "window_display": false
  }
 },
 "nbformat": 4,
 "nbformat_minor": 5
}
